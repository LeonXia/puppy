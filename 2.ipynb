import sqlite3
import pandas as pd
import matplotlib.pyplot as plt

db_filename = 'cereals.db'

conn =sqlite3.connect(db_filename)
c = conn.cursor()

c.execute("SELECT Manufacturer,count(*) FROM cereals GROUP BY Manufacturer")

counts = c.fetchall()

manuStats = pd.DataFrame.from_records(counts, columns=['manufacturer', 'value'])
print(manuStats)

plt.pie(manuStats['value'], labels = 'manufacturer', shadow=False)
plt.axis('equal')
plt.show()
